{
 "cells": [
  {
   "cell_type": "code",
   "execution_count": 2,
   "id": "c6c0a728",
   "metadata": {},
   "outputs": [],
   "source": [
    "import numpy as np\n",
    "import pandas as pd"
   ]
  },
  {
   "cell_type": "code",
   "execution_count": 20,
   "id": "9c9ebda8",
   "metadata": {},
   "outputs": [
    {
     "data": {
      "text/plain": [
       "array([[1, 4, 7],\n",
       "       [2, 5, 8],\n",
       "       [3, 6, 9]], dtype=int64)"
      ]
     },
     "execution_count": 20,
     "metadata": {},
     "output_type": "execute_result"
    }
   ],
   "source": [
    "df = pd.DataFrame(data={'A': [1, 2, 3], 'B': [4, 5, 6], 'C': [7, 8, 9]}, \n",
    "                  index=['a', 'b', 'c'])\n",
    "\n",
    "# Convert the entire DataFrame\n",
    "df.to_numpy()"
   ]
  },
  {
   "cell_type": "code",
   "execution_count": 21,
   "id": "e873f675",
   "metadata": {},
   "outputs": [],
   "source": [
    "#Write to csv\n",
    "df.to_excel(\"D:/temp/output.xls\")"
   ]
  },
  {
   "cell_type": "code",
   "execution_count": 54,
   "id": "1214dfb8",
   "metadata": {},
   "outputs": [
    {
     "ename": "FileNotFoundError",
     "evalue": "[Errno 2] No such file or directory: 'C:/temp/M.xls'",
     "output_type": "error",
     "traceback": [
      "\u001b[1;31m---------------------------------------------------------------------------\u001b[0m",
      "\u001b[1;31mFileNotFoundError\u001b[0m                         Traceback (most recent call last)",
      "Cell \u001b[1;32mIn[54], line 1\u001b[0m\n\u001b[1;32m----> 1\u001b[0m rdf \u001b[38;5;241m=\u001b[39m pd\u001b[38;5;241m.\u001b[39mread_excel(\u001b[38;5;124m\"\u001b[39m\u001b[38;5;124mC:/temp/M.xls\u001b[39m\u001b[38;5;124m\"\u001b[39m,index_col\u001b[38;5;241m=\u001b[39m\u001b[38;5;241m0\u001b[39m)\n\u001b[0;32m      2\u001b[0m rdf\n",
      "File \u001b[1;32m~\\anaconda3\\Lib\\site-packages\\pandas\\util\\_decorators.py:211\u001b[0m, in \u001b[0;36mdeprecate_kwarg.<locals>._deprecate_kwarg.<locals>.wrapper\u001b[1;34m(*args, **kwargs)\u001b[0m\n\u001b[0;32m    209\u001b[0m     \u001b[38;5;28;01melse\u001b[39;00m:\n\u001b[0;32m    210\u001b[0m         kwargs[new_arg_name] \u001b[38;5;241m=\u001b[39m new_arg_value\n\u001b[1;32m--> 211\u001b[0m \u001b[38;5;28;01mreturn\u001b[39;00m func(\u001b[38;5;241m*\u001b[39margs, \u001b[38;5;241m*\u001b[39m\u001b[38;5;241m*\u001b[39mkwargs)\n",
      "File \u001b[1;32m~\\anaconda3\\Lib\\site-packages\\pandas\\util\\_decorators.py:331\u001b[0m, in \u001b[0;36mdeprecate_nonkeyword_arguments.<locals>.decorate.<locals>.wrapper\u001b[1;34m(*args, **kwargs)\u001b[0m\n\u001b[0;32m    325\u001b[0m \u001b[38;5;28;01mif\u001b[39;00m \u001b[38;5;28mlen\u001b[39m(args) \u001b[38;5;241m>\u001b[39m num_allow_args:\n\u001b[0;32m    326\u001b[0m     warnings\u001b[38;5;241m.\u001b[39mwarn(\n\u001b[0;32m    327\u001b[0m         msg\u001b[38;5;241m.\u001b[39mformat(arguments\u001b[38;5;241m=\u001b[39m_format_argument_list(allow_args)),\n\u001b[0;32m    328\u001b[0m         \u001b[38;5;167;01mFutureWarning\u001b[39;00m,\n\u001b[0;32m    329\u001b[0m         stacklevel\u001b[38;5;241m=\u001b[39mfind_stack_level(),\n\u001b[0;32m    330\u001b[0m     )\n\u001b[1;32m--> 331\u001b[0m \u001b[38;5;28;01mreturn\u001b[39;00m func(\u001b[38;5;241m*\u001b[39margs, \u001b[38;5;241m*\u001b[39m\u001b[38;5;241m*\u001b[39mkwargs)\n",
      "File \u001b[1;32m~\\anaconda3\\Lib\\site-packages\\pandas\\io\\excel\\_base.py:482\u001b[0m, in \u001b[0;36mread_excel\u001b[1;34m(io, sheet_name, header, names, index_col, usecols, squeeze, dtype, engine, converters, true_values, false_values, skiprows, nrows, na_values, keep_default_na, na_filter, verbose, parse_dates, date_parser, thousands, decimal, comment, skipfooter, convert_float, mangle_dupe_cols, storage_options)\u001b[0m\n\u001b[0;32m    480\u001b[0m \u001b[38;5;28;01mif\u001b[39;00m \u001b[38;5;129;01mnot\u001b[39;00m \u001b[38;5;28misinstance\u001b[39m(io, ExcelFile):\n\u001b[0;32m    481\u001b[0m     should_close \u001b[38;5;241m=\u001b[39m \u001b[38;5;28;01mTrue\u001b[39;00m\n\u001b[1;32m--> 482\u001b[0m     io \u001b[38;5;241m=\u001b[39m ExcelFile(io, storage_options\u001b[38;5;241m=\u001b[39mstorage_options, engine\u001b[38;5;241m=\u001b[39mengine)\n\u001b[0;32m    483\u001b[0m \u001b[38;5;28;01melif\u001b[39;00m engine \u001b[38;5;129;01mand\u001b[39;00m engine \u001b[38;5;241m!=\u001b[39m io\u001b[38;5;241m.\u001b[39mengine:\n\u001b[0;32m    484\u001b[0m     \u001b[38;5;28;01mraise\u001b[39;00m \u001b[38;5;167;01mValueError\u001b[39;00m(\n\u001b[0;32m    485\u001b[0m         \u001b[38;5;124m\"\u001b[39m\u001b[38;5;124mEngine should not be specified when passing \u001b[39m\u001b[38;5;124m\"\u001b[39m\n\u001b[0;32m    486\u001b[0m         \u001b[38;5;124m\"\u001b[39m\u001b[38;5;124man ExcelFile - ExcelFile already has the engine set\u001b[39m\u001b[38;5;124m\"\u001b[39m\n\u001b[0;32m    487\u001b[0m     )\n",
      "File \u001b[1;32m~\\anaconda3\\Lib\\site-packages\\pandas\\io\\excel\\_base.py:1652\u001b[0m, in \u001b[0;36mExcelFile.__init__\u001b[1;34m(self, path_or_buffer, engine, storage_options)\u001b[0m\n\u001b[0;32m   1650\u001b[0m     ext \u001b[38;5;241m=\u001b[39m \u001b[38;5;124m\"\u001b[39m\u001b[38;5;124mxls\u001b[39m\u001b[38;5;124m\"\u001b[39m\n\u001b[0;32m   1651\u001b[0m \u001b[38;5;28;01melse\u001b[39;00m:\n\u001b[1;32m-> 1652\u001b[0m     ext \u001b[38;5;241m=\u001b[39m inspect_excel_format(\n\u001b[0;32m   1653\u001b[0m         content_or_path\u001b[38;5;241m=\u001b[39mpath_or_buffer, storage_options\u001b[38;5;241m=\u001b[39mstorage_options\n\u001b[0;32m   1654\u001b[0m     )\n\u001b[0;32m   1655\u001b[0m     \u001b[38;5;28;01mif\u001b[39;00m ext \u001b[38;5;129;01mis\u001b[39;00m \u001b[38;5;28;01mNone\u001b[39;00m:\n\u001b[0;32m   1656\u001b[0m         \u001b[38;5;28;01mraise\u001b[39;00m \u001b[38;5;167;01mValueError\u001b[39;00m(\n\u001b[0;32m   1657\u001b[0m             \u001b[38;5;124m\"\u001b[39m\u001b[38;5;124mExcel file format cannot be determined, you must specify \u001b[39m\u001b[38;5;124m\"\u001b[39m\n\u001b[0;32m   1658\u001b[0m             \u001b[38;5;124m\"\u001b[39m\u001b[38;5;124man engine manually.\u001b[39m\u001b[38;5;124m\"\u001b[39m\n\u001b[0;32m   1659\u001b[0m         )\n",
      "File \u001b[1;32m~\\anaconda3\\Lib\\site-packages\\pandas\\io\\excel\\_base.py:1525\u001b[0m, in \u001b[0;36minspect_excel_format\u001b[1;34m(content_or_path, storage_options)\u001b[0m\n\u001b[0;32m   1522\u001b[0m \u001b[38;5;28;01mif\u001b[39;00m \u001b[38;5;28misinstance\u001b[39m(content_or_path, \u001b[38;5;28mbytes\u001b[39m):\n\u001b[0;32m   1523\u001b[0m     content_or_path \u001b[38;5;241m=\u001b[39m BytesIO(content_or_path)\n\u001b[1;32m-> 1525\u001b[0m \u001b[38;5;28;01mwith\u001b[39;00m get_handle(\n\u001b[0;32m   1526\u001b[0m     content_or_path, \u001b[38;5;124m\"\u001b[39m\u001b[38;5;124mrb\u001b[39m\u001b[38;5;124m\"\u001b[39m, storage_options\u001b[38;5;241m=\u001b[39mstorage_options, is_text\u001b[38;5;241m=\u001b[39m\u001b[38;5;28;01mFalse\u001b[39;00m\n\u001b[0;32m   1527\u001b[0m ) \u001b[38;5;28;01mas\u001b[39;00m handle:\n\u001b[0;32m   1528\u001b[0m     stream \u001b[38;5;241m=\u001b[39m handle\u001b[38;5;241m.\u001b[39mhandle\n\u001b[0;32m   1529\u001b[0m     stream\u001b[38;5;241m.\u001b[39mseek(\u001b[38;5;241m0\u001b[39m)\n",
      "File \u001b[1;32m~\\anaconda3\\Lib\\site-packages\\pandas\\io\\common.py:865\u001b[0m, in \u001b[0;36mget_handle\u001b[1;34m(path_or_buf, mode, encoding, compression, memory_map, is_text, errors, storage_options)\u001b[0m\n\u001b[0;32m    856\u001b[0m         handle \u001b[38;5;241m=\u001b[39m \u001b[38;5;28mopen\u001b[39m(\n\u001b[0;32m    857\u001b[0m             handle,\n\u001b[0;32m    858\u001b[0m             ioargs\u001b[38;5;241m.\u001b[39mmode,\n\u001b[1;32m   (...)\u001b[0m\n\u001b[0;32m    861\u001b[0m             newline\u001b[38;5;241m=\u001b[39m\u001b[38;5;124m\"\u001b[39m\u001b[38;5;124m\"\u001b[39m,\n\u001b[0;32m    862\u001b[0m         )\n\u001b[0;32m    863\u001b[0m     \u001b[38;5;28;01melse\u001b[39;00m:\n\u001b[0;32m    864\u001b[0m         \u001b[38;5;66;03m# Binary mode\u001b[39;00m\n\u001b[1;32m--> 865\u001b[0m         handle \u001b[38;5;241m=\u001b[39m \u001b[38;5;28mopen\u001b[39m(handle, ioargs\u001b[38;5;241m.\u001b[39mmode)\n\u001b[0;32m    866\u001b[0m     handles\u001b[38;5;241m.\u001b[39mappend(handle)\n\u001b[0;32m    868\u001b[0m \u001b[38;5;66;03m# Convert BytesIO or file objects passed with an encoding\u001b[39;00m\n",
      "\u001b[1;31mFileNotFoundError\u001b[0m: [Errno 2] No such file or directory: 'C:/temp/M.xls'"
     ]
    }
   ],
   "source": [
    "rdf = pd.read_excel(\"C:/temp/M.xls\",index_col=0)\n",
    "rdf"
   ]
  },
  {
   "cell_type": "code",
   "execution_count": 31,
   "id": "05e1ce1b",
   "metadata": {},
   "outputs": [
    {
     "data": {
      "text/plain": [
       "(19, 199)"
      ]
     },
     "execution_count": 31,
     "metadata": {},
     "output_type": "execute_result"
    }
   ],
   "source": [
    "df.to_csv('C:/Users/CluClu/Downloads/Maggioni Python/SOD_Utils/trajdata.csv')"
   ]
  },
  {
   "cell_type": "code",
   "execution_count": 32,
   "id": "080663a5",
   "metadata": {},
   "outputs": [
    {
     "data": {
      "text/plain": [
       "array([[-1.28392835, -1.50813926, -1.65433886, ..., -1.29483938,\n",
       "        -1.36900981, -1.46475064],\n",
       "       [ 0.83870575,  0.98892924,  1.01659094, ..., -2.14375005,\n",
       "        -2.31030051, -2.47999614],\n",
       "       [-1.25216001, -1.43060464, -1.47390977, ...,  0.62832188,\n",
       "         0.49951005,  0.35845892],\n",
       "       ...,\n",
       "       [ 0.61659492,  0.55583925,  0.50679581, ...,  1.79903214,\n",
       "         1.73205019,  1.64319946],\n",
       "       [-0.08378415, -0.21128152, -0.31609982, ..., -0.51060703,\n",
       "        -0.66419535, -0.82511147],\n",
       "       [-0.65926079, -0.86257759, -0.93593937, ...,  0.43690194,\n",
       "         0.35547935,  0.25311792]])"
      ]
     },
     "execution_count": 32,
     "metadata": {},
     "output_type": "execute_result"
    }
   ],
   "source": [
    "A"
   ]
  },
  {
   "cell_type": "code",
   "execution_count": 33,
   "id": "a84174a8",
   "metadata": {},
   "outputs": [
    {
     "data": {
      "text/plain": [
       "array([[-1.2839, -1.5081, -1.6543, ..., -1.2948, -1.369 , -1.4648],\n",
       "       [ 0.8387,  0.9889,  1.0166, ..., -2.1438, -2.3103, -2.48  ],\n",
       "       [-1.2522, -1.4306, -1.4739, ...,  0.6283,  0.4995,  0.3585],\n",
       "       ...,\n",
       "       [ 0.6166,  0.5558,  0.5068, ...,  1.799 ,  1.7321,  1.6432],\n",
       "       [-0.0838, -0.2113, -0.3161, ..., -0.5106, -0.6642, -0.8251],\n",
       "       [-0.6593, -0.8626, -0.9359, ...,  0.4369,  0.3555,  0.2531]])"
      ]
     },
     "execution_count": 33,
     "metadata": {},
     "output_type": "execute_result"
    }
   ],
   "source": [
    "np.round(A,4)"
   ]
  },
  {
   "cell_type": "code",
   "execution_count": 35,
   "id": "8a0ea0f2",
   "metadata": {},
   "outputs": [
    {
     "name": "stdout",
     "output_type": "stream",
     "text": [
      "[0.000000 1.586000 150.450000 0.285500]\n"
     ]
    }
   ],
   "source": [
    "import numpy as np\n",
    " \n",
    "np.set_printoptions(suppress=True, formatter={'float_kind':'{:0.6f}'.format})\n",
    " \n",
    "a = np.array([1.8e-10, 1.586, 150.45, 0.2855])  \n",
    " \n",
    "print(a)"
   ]
  },
  {
   "cell_type": "code",
   "execution_count": 36,
   "id": "1c792fc0",
   "metadata": {},
   "outputs": [
    {
     "data": {
      "text/plain": [
       "array([38, 26, 14, 55, 31, 23, 15,  8, 23, 23, 23, 18, 40, 27,  3, 19, 23,\n",
       "       49, 29, 21,  5, 38, 29, 17, 16])"
      ]
     },
     "execution_count": 36,
     "metadata": {},
     "output_type": "execute_result"
    }
   ],
   "source": [
    "import numpy as np\n",
    "foo_array = [38,26,14,55,31,0,15,8,0,0,0,18,40,27,3,19,0,49,29,21,5,38,29,17,16]\n",
    "foo = np.array(foo_array)\n",
    "# Compute the median of the non-zero elements\n",
    "m = np.median(foo[foo > 0])\n",
    "# Assign the median to the zero elements \n",
    "foo[foo == 0] = m\n",
    "foo"
   ]
  },
  {
   "cell_type": "code",
   "execution_count": 86,
   "id": "efa2c48f",
   "metadata": {},
   "outputs": [],
   "source": [
    "from scipy.integrate import ode\n",
    "\n",
    "y0, t0 = [1.0j, 2.0], 0\n",
    "\n",
    "def f(t, y, arg1):\n",
    "    return [1j*arg1*y[0] + y[1], -arg1*y[1]**2]\n",
    "\n",
    "def jac(t, y, arg1):\n",
    "    return [[1j*arg1, 1], [0, -arg1*2*y[1]]]\n",
    "\n"
   ]
  },
  {
   "cell_type": "code",
   "execution_count": 88,
   "id": "3be7898c",
   "metadata": {},
   "outputs": [
    {
     "name": "stdout",
     "output_type": "stream",
     "text": [
      "(1.0, array([-0.3432716 -0.58873233j,  0.28571612+0.j        ]))\n",
      "(2.0, array([0.40748964+0.67139406j, 0.15384677+0.j        ]))\n",
      "(3.0, array([-0.50168074-0.52296894j,  0.10526345+0.j        ]))\n",
      "(4.0, array([0.56979439+0.50782088j, 0.08000017+0.j        ]))\n",
      "(5.0, array([-0.63542344-0.37461758j,  0.06451624+0.j        ]))\n",
      "(6.0, array([0.68263266+0.32042453j, 0.05405413+0.j        ]))\n",
      "(7.0, array([-0.7201423 -0.18757413j,  0.04651169+0.j        ]))\n",
      "(8.0, array([0.74032053+0.1130171j, 0.04081637+0.j       ]))\n",
      "(9.0, array([-0.74791996+0.01817806j,  0.03636367+0.j        ]))\n",
      "(10.0, array([0.7387785 -0.1006028j, 0.03278691+0.j       ]))\n"
     ]
    }
   ],
   "source": [
    "r = ode(f).set_integrator('zvode', method='bdf')\n",
    "r.set_initial_value(y0, t0).set_f_params(3.0)\n",
    "t1 = 10\n",
    "dt = 1\n",
    "while r.successful() and r.t < t1:\n",
    "    r.integrate(r.t+dt)\n",
    "    print((r.t, r.y))"
   ]
  },
  {
   "cell_type": "code",
   "execution_count": 57,
   "id": "b2ac6ed0",
   "metadata": {},
   "outputs": [],
   "source": [
    "def odefun(t, y, sys_info):\n",
    "    MAURO = False\n",
    "    #The following code will replace zero with median value\n",
    "    #med = np.median(r[r > 0]) \n",
    "    #r[r == 0] = med\n",
    "\n",
    "    if not MAURO:\n",
    "        f = 1 - sys_info**(-2)\n",
    "    else:\n",
    "        f = 1 - sys_info**(-6)\n",
    "   \n",
    "    return f\n",
    "\n",
    "\n",
    "# state_vars = partition_sys_var(y, sys_info)\n",
    "#def eval_rhs(y, sys_info):\n",
    "#   state_vars = partition_sys_var(y, sys_info)\n",
    "#    return state_vars\n",
    "#pdist_mat = np.sqrt(np.abs(sqdist_mod(x))) \n",
    "prey_attract_prey = 1\n",
    "arg_1 = [0.188236228393228,0.313727047322047,0.439217866250866,0.564708685179685,0.690199504108504,0.815690323037322,0.941181141966141,\n",
    "1.06667196089496,1.19216277982378,1.3176535987526,1.44314441768142,1.56863523661024,1.69412605553905,1.81961687446787,\n",
    "1.94510769339669,2.07059851232551,2.19608933125433,2.32158015018315,2.44707096911197,2.57256178804079,2.6980526069696,\n",
    "2.82354342589842,2.94903424482724,3.07452506375606,3.200015883]\n",
    "y0 =[ -0.00872886532924586,\n",
    "-0.0484557968079573,-0.0171359272631671,0.0136419363689843,-0.0754701451475953,-0.0364264003889999,-0.0314578552365636,\n",
    "-0.0759592943174865,0.0358626619163718,0.079062482662237,-0.00464637532356709,-0.0573029485604983,-0.044418547425838,\n",
    "-0.0252458827507441,0.0643476495508173,0.067326157152198,0.0218279649314381,-0.024553876138852,0.0360676981992193,\n",
    "-0.0305536793525595]\n",
    "t0 =np.linspace(0,5,5)"
   ]
  },
  {
   "cell_type": "code",
   "execution_count": null,
   "id": "66770cce",
   "metadata": {},
   "outputs": [],
   "source": [
    "#self_organized_dynamics\n",
    "#def self_organized_dynamics(y_init, sys_info, solver_info):\n",
    "#for m in range(M):\n",
    "#        if comp_traj:\n",
    "#            traj[m] = self_organized_dynamics(ICs[:, m], sys_info, solver_info)\n",
    "#dynamics = ode(odefun).set_integrator('zvode', method='bdf', with_jacobian=True)\n",
    "#dynamics.set_initial_value(y_init, solver_info['time_span']).set_odefun_params(sys_info,)\n",
    "#return dynamics"
   ]
  },
  {
   "cell_type": "code",
   "execution_count": null,
   "id": "c732b57b",
   "metadata": {},
   "outputs": [],
   "source": [
    "block_size = sys_info.d * sys_info.N;\n",
    "x          = reshape(y(1 : block_size), [sys_info.d, sys_info.N]);"
   ]
  },
  {
   "cell_type": "code",
   "execution_count": 46,
   "id": "2ce0e63e",
   "metadata": {},
   "outputs": [],
   "source": [
    "t0 =np.linspace(0,5,5)"
   ]
  },
  {
   "cell_type": "code",
   "execution_count": 47,
   "id": "f16605b4",
   "metadata": {},
   "outputs": [
    {
     "data": {
      "text/plain": [
       "array([0.000000, 1.250000, 2.500000, 3.750000, 5.000000])"
      ]
     },
     "execution_count": 47,
     "metadata": {},
     "output_type": "execute_result"
    }
   ],
   "source": [
    "t0"
   ]
  },
  {
   "cell_type": "code",
   "execution_count": 188,
   "id": "72ed95ac",
   "metadata": {},
   "outputs": [
    {
     "name": "stdout",
     "output_type": "stream",
     "text": [
      "2\n"
     ]
    }
   ],
   "source": [
    "def f(t, u,arg1):\n",
    "    f = 1 - arg1**(-2)\n",
    "    return f\n",
    "\n",
    "from scipy.integrate import ode\n",
    "r = ode(f).set_integrator('zvode', method='bdf')\n",
    "arg_1 =6.18823622                           \n",
    "u0 = [0.0218279649314381]\n",
    "r.set_initial_value(u0, 0).set_f_params(arg_1)\n",
    "T = 30\n",
    "dt = T/20.\n",
    "u = [];  t = []\n",
    "while r.successful() and r.t <= T:\n",
    "    r.integrate(r.t + dt)\n",
    "    u.append(r.y);  t.append(r.t)\n",
    "print(r.get_return_code())"
   ]
  },
  {
   "cell_type": "code",
   "execution_count": 107,
   "id": "dbc38d01",
   "metadata": {},
   "outputs": [
    {
     "data": {
      "text/plain": [
       "(21, 1)"
      ]
     },
     "execution_count": 107,
     "metadata": {},
     "output_type": "execute_result"
    }
   ],
   "source": [
    "A=np.array(u)\n",
    "A.shape"
   ]
  },
  {
   "cell_type": "code",
   "execution_count": 108,
   "id": "c3846250",
   "metadata": {},
   "outputs": [
    {
     "name": "stdout",
     "output_type": "stream",
     "text": [
      "[[ 1.48265761+0.j]\n",
      " [ 2.94348726+0.j]\n",
      " [ 4.4043169 +0.j]\n",
      " [ 5.86514655+0.j]\n",
      " [ 7.3259762 +0.j]\n",
      " [ 8.78680584+0.j]\n",
      " [10.24763549+0.j]\n",
      " [11.70846514+0.j]\n",
      " [13.16929478+0.j]\n",
      " [14.63012443+0.j]\n",
      " [16.09095408+0.j]\n",
      " [17.55178372+0.j]\n",
      " [19.01261337+0.j]\n",
      " [20.47344301+0.j]\n",
      " [21.93427266+0.j]\n",
      " [23.39510231+0.j]\n",
      " [24.85593195+0.j]\n",
      " [26.3167616 +0.j]\n",
      " [27.77759125+0.j]\n",
      " [29.23842089+0.j]\n",
      " [30.69925054+0.j]]\n"
     ]
    }
   ],
   "source": [
    "np.set_printoptions(suppress=True, formatter={'float_kind':'{:0.6f}'.format})\n",
    "print(A)\n"
   ]
  },
  {
   "cell_type": "code",
   "execution_count": 120,
   "id": "3a4311b6",
   "metadata": {},
   "outputs": [
    {
     "data": {
      "text/plain": [
       "array([[-0.008729, -0.048456, -0.017136, 0.013642, -0.075470, -0.036426,\n",
       "        -0.031458, -0.075959, 0.035863, 0.079062],\n",
       "       [-0.004646, -0.057303, -0.044419, -0.025246, 0.064348, 0.067326,\n",
       "        0.021828, -0.024554, 0.036068, -0.030554]])"
      ]
     },
     "execution_count": 120,
     "metadata": {},
     "output_type": "execute_result"
    }
   ],
   "source": [
    "y0 =[ -0.00872886532924586,\n",
    "-0.0484557968079573,-0.0171359272631671,0.0136419363689843,-0.0754701451475953,-0.0364264003889999,-0.0314578552365636,\n",
    "-0.0759592943174865,0.0358626619163718,0.079062482662237,-0.00464637532356709,-0.0573029485604983,-0.044418547425838,\n",
    "-0.0252458827507441,0.0643476495508173,0.067326157152198,0.0218279649314381,-0.024553876138852,0.0360676981992193,\n",
    "-0.0305536793525595]\n",
    "y0 = np.array(y0)\n",
    "p=y0.reshape(2,10)\n",
    "p"
   ]
  },
  {
   "cell_type": "code",
   "execution_count": 136,
   "id": "cefcde95",
   "metadata": {},
   "outputs": [
    {
     "data": {
      "text/plain": [
       "(2, 10)"
      ]
     },
     "execution_count": 136,
     "metadata": {},
     "output_type": "execute_result"
    }
   ],
   "source": [
    "p=np.array([[1.069269, -0.653360, 0.818944, -0.441508, 0.980443, -0.539782,\n",
    "        -0.808354, -0.790201, -1.153940, -0.092641],\n",
    "       [0.271716, 1.139082, -0.422112, -1.116412, -0.765612, 0.875512,\n",
    "        0.584265, 0.292626, -0.368277, 0.032675]])\n",
    "p.shape"
   ]
  },
  {
   "cell_type": "code",
   "execution_count": 165,
   "id": "6277bd9c",
   "metadata": {},
   "outputs": [],
   "source": [
    "y_init = np.array([-1.05825811,  0.12962493, -0.40147314,  0.2344644 , -0.87444586,\n",
    "        0.16297107,  1.10424671, -0.80213584,  0.97391083,  0.0589306 ,\n",
    "        0.49475021, -1.00922335, -0.61129238,  0.71026633, -0.21276029,\n",
    "       -0.99128189,  0.14692584,  0.26459816, -0.05286884, -0.06734426])\n",
    "y_init = y_init.reshape(2,10)\n",
    "p = y_init"
   ]
  },
  {
   "cell_type": "code",
   "execution_count": 166,
   "id": "2f5dec46",
   "metadata": {},
   "outputs": [
    {
     "data": {
      "text/plain": [
       "array([[0.000000, 3.673003, 1.654697, 1.717579, 0.534358, 3.699692,\n",
       "        4.797409, 0.118569, 4.429597, 1.564061],\n",
       "       [3.673003, 0.000000, 0.440414, 2.967636, 1.642512, 0.001434,\n",
       "        2.286569, 2.490799, 1.627433, 0.892134],\n",
       "       [1.654697, 0.440414, 0.000000, 2.150934, 0.382531, 0.462989,\n",
       "        2.842087, 0.927715, 2.203518, 0.507851],\n",
       "       [1.717579, 2.967636, 2.150934, 0.000000, 2.081660, 2.900378,\n",
       "        1.073874, 1.273160, 1.129156, 0.635490],\n",
       "       [0.534358, 1.642512, 0.382531, 2.081660, 0.000000, 1.682330,\n",
       "        4.044598, 0.233100, 3.441988, 0.892337],\n",
       "       [3.699692, 0.001434, 0.462989, 2.900378, 1.682330, 0.000000,\n",
       "        2.181517, 2.508666, 1.538242, 0.864485],\n",
       "       [4.797409, 2.286569, 2.842087, 1.073874, 4.044598, 2.181517,\n",
       "        0.000000, 3.648141, 0.056905, 1.138597],\n",
       "       [0.118569, 2.490799, 0.927715, 1.273160, 0.233100, 2.508666,\n",
       "        3.648141, 0.000000, 3.255127, 0.851621],\n",
       "       [4.429597, 1.627433, 2.203518, 1.129156, 3.441988, 1.538242,\n",
       "        0.056905, 3.255127, 0.000000, 0.837398],\n",
       "       [1.564061, 0.892134, 0.507851, 0.635490, 0.892337, 0.864485,\n",
       "        1.138597, 0.851621, 0.837398, 0.000000]])"
      ]
     },
     "execution_count": 166,
     "metadata": {},
     "output_type": "execute_result"
    }
   ],
   "source": [
    "import numpy.matlib as mtlb\n",
    "d, pn = p.shape\n",
    "p=np.reshape(p,(d,pn))\n",
    "#print(\"Shape for p and q)\")\n",
    "#print(p.shape)\n",
    "qn = pn\n",
    "\n",
    "\n",
    "pmag = np.sum(p * p, axis = 0)\n",
    "pmag=np.reshape(pmag,(1,pn))\n",
    "qmag = pmag\n",
    "m = np.abs(mtlb.repmat(qmag, pn, 1) + mtlb.repmat(pmag.T, 1, qn) - 2 * np.dot(p.T,p))\n",
    "np.fill_diagonal(m, 0)\n",
    "m"
   ]
  },
  {
   "cell_type": "code",
   "execution_count": 167,
   "id": "922b2a71",
   "metadata": {},
   "outputs": [
    {
     "data": {
      "text/plain": [
       "(10, 10)"
      ]
     },
     "execution_count": 167,
     "metadata": {},
     "output_type": "execute_result"
    }
   ],
   "source": [
    "m.shape"
   ]
  },
  {
   "cell_type": "code",
   "execution_count": 130,
   "id": "6e62e7e5",
   "metadata": {},
   "outputs": [
    {
     "data": {
      "text/plain": [
       "array([0.004351, 0.000000, 0.001147, 0.004884, 0.015529, 0.015677,\n",
       "       0.006551, 0.001829, 0.015828, 0.016976])"
      ]
     },
     "execution_count": 130,
     "metadata": {},
     "output_type": "execute_result"
    }
   ],
   "source": [
    "m[1,:]"
   ]
  },
  {
   "cell_type": "code",
   "execution_count": 124,
   "id": "359ade9a",
   "metadata": {},
   "outputs": [
    {
     "data": {
      "text/plain": [
       "array([[0.000098, 0.000689, 0.000356, -0.000002, 0.000360, 0.000005,\n",
       "        0.000173, 0.000777, -0.000481, -0.000548],\n",
       "       [0.000689, 0.005632, 0.003376, 0.000786, -0.000030, -0.002093,\n",
       "        0.000274, 0.005088, -0.003805, -0.002080],\n",
       "       [0.000356, 0.003376, 0.002267, 0.000888, -0.001565, -0.002366,\n",
       "        -0.000431, 0.002392, -0.002217, 0.000002],\n",
       "       [-0.000002, 0.000786, 0.000888, 0.000823, -0.002654, -0.002197,\n",
       "        -0.000980, -0.000416, -0.000421, 0.001850],\n",
       "       [0.000360, -0.000030, -0.001565, -0.002654, 0.009836, 0.007081,\n",
       "        0.003779, 0.004153, -0.000386, -0.007933],\n",
       "       [0.000005, -0.002093, -0.002366, -0.002197, 0.007081, 0.005860,\n",
       "        0.002615, 0.001114, 0.001122, -0.004937],\n",
       "       [0.000173, 0.000274, -0.000431, -0.000980, 0.003779, 0.002615,\n",
       "        0.001466, 0.001854, -0.000341, -0.003154],\n",
       "       [0.000777, 0.005088, 0.002392, -0.000416, 0.004153, 0.001114,\n",
       "        0.001854, 0.006373, -0.003610, -0.005255],\n",
       "       [-0.000481, -0.003805, -0.002217, -0.000421, -0.000386, 0.001122,\n",
       "        -0.000341, -0.003610, 0.002587, 0.001733],\n",
       "       [-0.000548, -0.002080, 0.000002, 0.001850, -0.007933, -0.004937,\n",
       "        -0.003154, -0.005255, 0.001733, 0.007184]])"
      ]
     },
     "execution_count": 124,
     "metadata": {},
     "output_type": "execute_result"
    }
   ],
   "source": [
    "np.dot(p.T,p)"
   ]
  },
  {
   "cell_type": "code",
   "execution_count": 125,
   "id": "561638e1",
   "metadata": {},
   "outputs": [
    {
     "data": {
      "text/plain": [
       "array([[0.000076, 0.002348, 0.000294, 0.000186, 0.005696, 0.001327,\n",
       "        0.000990, 0.005770, 0.001286, 0.006251],\n",
       "       [0.000022, 0.003284, 0.001973, 0.000637, 0.004141, 0.004533,\n",
       "        0.000476, 0.000603, 0.001301, 0.000934]])"
      ]
     },
     "execution_count": 125,
     "metadata": {},
     "output_type": "execute_result"
    }
   ],
   "source": [
    "p * p"
   ]
  },
  {
   "cell_type": "code",
   "execution_count": 153,
   "id": "7917dfeb",
   "metadata": {},
   "outputs": [
    {
     "name": "stdout",
     "output_type": "stream",
     "text": [
      "6\n"
     ]
    }
   ],
   "source": [
    "type_info=np.array([1,1,1,1,1,1,2])\n",
    "preys_ind = np.where(type_info ==1,1,0)\n",
    "num_preys = np. count_nonzero(np.array(preys_ind))\n",
    "print(num_preys)"
   ]
  },
  {
   "cell_type": "code",
   "execution_count": 154,
   "id": "13a8a026",
   "metadata": {},
   "outputs": [
    {
     "data": {
      "text/plain": [
       "[0.30000000000000004, 0.8999999999999999]"
      ]
     },
     "execution_count": 154,
     "metadata": {},
     "output_type": "execute_result"
    }
   ],
   "source": [
    "l1 = [0.05, 0.15] \n",
    "domain = [i* num_preys for i in l1]\n",
    "domain"
   ]
  },
  {
   "cell_type": "code",
   "execution_count": 156,
   "id": "e4390cce",
   "metadata": {},
   "outputs": [
    {
     "data": {
      "text/plain": [
       "array([0, 0, 0, 0, 0, 0, 1])"
      ]
     },
     "execution_count": 156,
     "metadata": {},
     "output_type": "execute_result"
    }
   ],
   "source": [
    "preds_ind = np.where(type_info ==2,1,0)\n",
    "num_preds = np.count_nonzero(preds_ind)\n",
    "preds_ind"
   ]
  },
  {
   "cell_type": "code",
   "execution_count": 157,
   "id": "f90c7141",
   "metadata": {},
   "outputs": [
    {
     "data": {
      "text/plain": [
       "(2, 9)"
      ]
     },
     "execution_count": 157,
     "metadata": {},
     "output_type": "execute_result"
    }
   ],
   "source": [
    "w = np.array([[-0.7717593, -1.0969517, 0.4904334, -1.1987274, 1.0881670,\n",
    "        1.0375166, -0.5935011, -1.1676089, -1.0381189],\n",
    "       [-0.4163131, -0.0208999, 0.2306007, -0.4954527, 0.1749723,\n",
    "        -0.2291350, -0.6705024, -0.0509902, 0.1113019]])\n",
    "w.shape"
   ]
  },
  {
   "cell_type": "code",
   "execution_count": 158,
   "id": "49deebac",
   "metadata": {},
   "outputs": [],
   "source": [
    "y_init = np.zeros((2, 10))"
   ]
  },
  {
   "cell_type": "code",
   "execution_count": 160,
   "id": "5adf31af",
   "metadata": {},
   "outputs": [],
   "source": [
    "y_init[:,0:9] = w"
   ]
  },
  {
   "cell_type": "code",
   "execution_count": 161,
   "id": "d0bc4816",
   "metadata": {},
   "outputs": [
    {
     "data": {
      "text/plain": [
       "array([[-0.771759, -1.096952, 0.490433, -1.198727, 1.088167, 1.037517,\n",
       "        -0.593501, -1.167609, -1.038119, 0.000000],\n",
       "       [-0.416313, -0.020900, 0.230601, -0.495453, 0.174972, -0.229135,\n",
       "        -0.670502, -0.050990, 0.111302, 0.000000]])"
      ]
     },
     "execution_count": 161,
     "metadata": {},
     "output_type": "execute_result"
    }
   ],
   "source": [
    "y_init"
   ]
  },
  {
   "cell_type": "code",
   "execution_count": 185,
   "id": "778a4599",
   "metadata": {},
   "outputs": [],
   "source": [
    "from scipy.integrate import ode                           \n",
    "                                                  \n",
    " \n",
    "# Function defining derivates of the positions and velocities.                                                            \n",
    "def sho(t,y,k,m):                                            \n",
    "    # INPUTS:                                                \n",
    "        # t time, only used in non-autonomous systems.       \n",
    "        # y[0] the x-position                                \n",
    "        # y[1] the velocity                                  \n",
    "        # k Spring constant                                  \n",
    "        # m Mass                                             \n",
    "    # OUTPUTS:\n",
    "        # dxdt derivative of the position = velocity\n",
    "        # dvdy acceleration, Newton's second law, here for a spring a = -k/m x\n",
    "    return np.array([y[1], -k/m*y[0]])\n",
    " \n",
    "# Initial Conditions\n",
    "y0, t0 = [1.,0.], 0.\n",
    " \n",
    "# Model parameters \n",
    "k = 1.      # Spring constant\n",
    "m = 1.      # Mass on the Spring\n",
    " \n",
    "# CREATE ODE OBJECT\n",
    "i = ode(sho) # Create an ode object and bind the rhs function.\n",
    "i.set_integrator('vode',method='adams')  # Which integrator to use. \n",
    "i.set_initial_value(y0,t0)  # The initial values\n",
    "# Define parameters for the derivatives function. \n",
    "# These will be passed  to the function at each time.\n",
    "i.set_f_params(k,m)         \n",
    " \n",
    "tf = 5.       # Final time\n",
    "dt = 0.25                  # Output interval\n",
    "yf=[y0]                    # List for storing the output\n",
    "times = np.arange(t0,tf,dt)    # Times to evaluate a solution. \n",
    " \n",
    "# Main loop for the integration\n",
    "for t in times[1:]:\n",
    "    i.integrate(i.t+dt)\n",
    "    yf.append(i.y)\n",
    " \n",
    "yf = np.array(yf)\n"
   ]
  },
  {
   "cell_type": "code",
   "execution_count": 184,
   "id": "2e77a3cc",
   "metadata": {},
   "outputs": [
    {
     "data": {
      "text/plain": [
       "array([[1.000000, 0.000000],\n",
       "       [0.968913, -0.247404],\n",
       "       [0.877584, -0.479426],\n",
       "       [0.731690, -0.681640],\n",
       "       [0.540303, -0.841472],\n",
       "       [0.315322, -0.948986],\n",
       "       [0.070737, -0.997496],\n",
       "       [-0.178247, -0.983987],\n",
       "       [-0.416148, -0.909298],\n",
       "       [-0.628175, -0.778073],\n",
       "       [-0.801145, -0.598471],\n",
       "       [-0.924304, -0.381660],\n",
       "       [-0.989994, -0.141118],\n",
       "       [-0.994130, 0.108198],\n",
       "       [-0.936456, 0.350786],\n",
       "       [-0.820558, 0.571564],\n",
       "       [-0.653642, 0.756805],\n",
       "       [-0.446085, 0.894991],\n",
       "       [-0.210793, 0.977531],\n",
       "       [0.037606, 0.999293]])"
      ]
     },
     "execution_count": 184,
     "metadata": {},
     "output_type": "execute_result"
    }
   ],
   "source": [
    "yf"
   ]
  },
  {
   "cell_type": "code",
   "execution_count": 55,
   "id": "dc11292a",
   "metadata": {},
   "outputs": [],
   "source": [
    "plot_info = {'sys_info': 'sys_info',\n",
    "    'solver_info': 'solver_info',\n",
    "    'obs_info': 'obs_info',\n",
    "    'learn_info': 'learn_info'\n",
    "}"
   ]
  },
  {
   "cell_type": "code",
   "execution_count": 35,
   "id": "8fee8057",
   "metadata": {},
   "outputs": [
    {
     "data": {
      "text/plain": [
       "(\"columns=['sys_info',\",\n",
       " \"'solver_info','obs_info'\",\n",
       " \"'learn_info'\",\n",
       " \"orient='index',\",\n",
       " 'columns=[K,V]]')"
      ]
     },
     "execution_count": 35,
     "metadata": {},
     "output_type": "execute_result"
    }
   ],
   "source": [
    ", columns=['sys_info',  'solver_info','obs_info' 'learn_info' orient='index', columns=[K,V]]"
   ]
  },
  {
   "cell_type": "code",
   "execution_count": 44,
   "id": "70bd2289",
   "metadata": {},
   "outputs": [],
   "source": [
    "df = pd.DataFrame.from_dict(plot_info, orient='index')"
   ]
  },
  {
   "cell_type": "code",
   "execution_count": 37,
   "id": "ef5d5dc9",
   "metadata": {},
   "outputs": [
    {
     "data": {
      "text/html": [
       "<div>\n",
       "<style scoped>\n",
       "    .dataframe tbody tr th:only-of-type {\n",
       "        vertical-align: middle;\n",
       "    }\n",
       "\n",
       "    .dataframe tbody tr th {\n",
       "        vertical-align: top;\n",
       "    }\n",
       "\n",
       "    .dataframe thead th {\n",
       "        text-align: right;\n",
       "    }\n",
       "</style>\n",
       "<table border=\"1\" class=\"dataframe\">\n",
       "  <thead>\n",
       "    <tr style=\"text-align: right;\">\n",
       "      <th></th>\n",
       "      <th>0</th>\n",
       "    </tr>\n",
       "  </thead>\n",
       "  <tbody>\n",
       "    <tr>\n",
       "      <th>sys_info</th>\n",
       "      <td>sys_info</td>\n",
       "    </tr>\n",
       "    <tr>\n",
       "      <th>solver_info</th>\n",
       "      <td>solver_info</td>\n",
       "    </tr>\n",
       "    <tr>\n",
       "      <th>obs_info</th>\n",
       "      <td>obs_info</td>\n",
       "    </tr>\n",
       "    <tr>\n",
       "      <th>learn_info</th>\n",
       "      <td>learn_info</td>\n",
       "    </tr>\n",
       "  </tbody>\n",
       "</table>\n",
       "</div>"
      ],
      "text/plain": [
       "                       0\n",
       "sys_info        sys_info\n",
       "solver_info  solver_info\n",
       "obs_info        obs_info\n",
       "learn_info    learn_info"
      ]
     },
     "execution_count": 37,
     "metadata": {},
     "output_type": "execute_result"
    }
   ],
   "source": [
    "df"
   ]
  },
  {
   "cell_type": "code",
   "execution_count": 47,
   "id": "71e837a7",
   "metadata": {},
   "outputs": [],
   "source": [
    "A=df.to_dict()"
   ]
  },
  {
   "cell_type": "code",
   "execution_count": 49,
   "id": "89fc07d2",
   "metadata": {},
   "outputs": [
    {
     "data": {
      "text/plain": [
       "{0: {'sys_info': 'sys_info',\n",
       "  'solver_info': 'solver_info',\n",
       "  'obs_info': 'obs_info',\n",
       "  'learn_info': 'learn_info'}}"
      ]
     },
     "execution_count": 49,
     "metadata": {},
     "output_type": "execute_result"
    }
   ],
   "source": [
    "A"
   ]
  },
  {
   "cell_type": "code",
   "execution_count": 52,
   "id": "647c12b9",
   "metadata": {},
   "outputs": [
    {
     "data": {
      "text/plain": [
       "'sys_info'"
      ]
     },
     "execution_count": 52,
     "metadata": {},
     "output_type": "execute_result"
    }
   ],
   "source": [
    "A[0]['sys_info']"
   ]
  },
  {
   "cell_type": "code",
   "execution_count": 57,
   "id": "3e285dce",
   "metadata": {},
   "outputs": [],
   "source": [
    "with open('C:/Users/CluClu/Downloads/Maggioni Python/SOD_Utils/test_data.txt','w') as data: \n",
    "      data.write(str(plot_info))"
   ]
  },
  {
   "cell_type": "code",
   "execution_count": 72,
   "id": "ab049605",
   "metadata": {},
   "outputs": [],
   "source": [
    "st1 = 'lamda  : f(r,k=1)'"
   ]
  },
  {
   "cell_type": "code",
   "execution_count": 73,
   "id": "2b835f29",
   "metadata": {},
   "outputs": [
    {
     "name": "stdout",
     "output_type": "stream",
     "text": [
      "Empty\n"
     ]
    }
   ],
   "source": [
    "a = st1.split(':')[0]\n",
    "b =a.split(\" \")[1]\n",
    "if len(b) == 0:\n",
    "    print('Empty')\n",
    "else:\n",
    "    print('There is a paarmeter')"
   ]
  },
  {
   "cell_type": "code",
   "execution_count": 74,
   "id": "78aeaad9",
   "metadata": {},
   "outputs": [
    {
     "data": {
      "text/plain": [
       "str"
      ]
     },
     "execution_count": 74,
     "metadata": {},
     "output_type": "execute_result"
    }
   ],
   "source": [
    "\n",
    "type(b)"
   ]
  },
  {
   "cell_type": "code",
   "execution_count": 75,
   "id": "98a77de9",
   "metadata": {},
   "outputs": [
    {
     "name": "stdout",
     "output_type": "stream",
     "text": [
      "Empty\n"
     ]
    }
   ],
   "source": [
    "if len(b) == 0:\n",
    "    print('Empty')\n",
    "else:\n",
    "    print('There is a paarmeter')"
   ]
  },
  {
   "cell_type": "code",
   "execution_count": 79,
   "id": "40165a2b",
   "metadata": {},
   "outputs": [],
   "source": [
    "import numpy as np"
   ]
  },
  {
   "cell_type": "code",
   "execution_count": 80,
   "id": "a3be6667",
   "metadata": {},
   "outputs": [],
   "source": [
    "a = np.array([ 1.11603504e+00, -1.19771911e-01,  3.93543426e-01, -1.97099070e-01,\n",
    "        1.77187177e-01,  6.31133829e-01,  1.13920202e+00,  4.76617742e-01,\n",
    "       -7.58153276e-02, -1.06772730e+00, -6.50627960e-04,  1.17741924e+00,\n",
    "       -7.95691006e-01, -1.29385464e+00,  8.89603128e-01,  6.95605715e-01,\n",
    "        5.37374128e-01,  1.09738661e-01, -5.77865405e-02])"
   ]
  },
  {
   "cell_type": "code",
   "execution_count": 81,
   "id": "a555240a",
   "metadata": {},
   "outputs": [
    {
     "data": {
      "text/plain": [
       "array([-1.19771911e-01,  3.93543426e-01, -1.97099070e-01,  1.77187177e-01,\n",
       "        6.31133829e-01,  1.13920202e+00,  4.76617742e-01, -7.58153276e-02,\n",
       "       -1.06772730e+00, -6.50627960e-04,  1.17741924e+00, -7.95691006e-01,\n",
       "       -1.29385464e+00,  8.89603128e-01,  6.95605715e-01,  5.37374128e-01,\n",
       "        1.09738661e-01, -5.77865405e-02])"
      ]
     },
     "execution_count": 81,
     "metadata": {},
     "output_type": "execute_result"
    }
   ],
   "source": [
    "a[1:]"
   ]
  },
  {
   "cell_type": "code",
   "execution_count": 82,
   "id": "5dc70f66",
   "metadata": {},
   "outputs": [
    {
     "data": {
      "text/plain": [
       "array([1.11603504])"
      ]
     },
     "execution_count": 82,
     "metadata": {},
     "output_type": "execute_result"
    }
   ],
   "source": [
    "a[:1]"
   ]
  },
  {
   "cell_type": "code",
   "execution_count": 83,
   "id": "92302e8f",
   "metadata": {},
   "outputs": [
    {
     "data": {
      "text/plain": [
       "array([ 1.13920202e+00,  4.76617742e-01, -7.58153276e-02, -1.06772730e+00,\n",
       "       -6.50627960e-04,  1.17741924e+00, -7.95691006e-01, -1.29385464e+00,\n",
       "        8.89603128e-01,  6.95605715e-01,  5.37374128e-01,  1.09738661e-01,\n",
       "       -5.77865405e-02])"
      ]
     },
     "execution_count": 83,
     "metadata": {},
     "output_type": "execute_result"
    }
   ],
   "source": [
    "a[6:]"
   ]
  },
  {
   "cell_type": "code",
   "execution_count": 85,
   "id": "c9c805c3",
   "metadata": {},
   "outputs": [],
   "source": [
    "A=np.zeros(((4,5)))"
   ]
  },
  {
   "cell_type": "code",
   "execution_count": 88,
   "id": "c502dd05",
   "metadata": {},
   "outputs": [
    {
     "data": {
      "text/plain": [
       "array([[0., 0., 0., 0., 0.],\n",
       "       [0., 0., 0., 0., 0.],\n",
       "       [0., 0., 0., 0., 0.],\n",
       "       [0., 0., 0., 0., 0.]])"
      ]
     },
     "execution_count": 88,
     "metadata": {},
     "output_type": "execute_result"
    }
   ],
   "source": [
    "A"
   ]
  },
  {
   "cell_type": "code",
   "execution_count": 93,
   "id": "73a196d9",
   "metadata": {},
   "outputs": [
    {
     "data": {
      "text/plain": [
       "array([[0., 0., 0., 0., 0.]])"
      ]
     },
     "execution_count": 93,
     "metadata": {},
     "output_type": "execute_result"
    }
   ],
   "source": [
    "A[3:]"
   ]
  },
  {
   "cell_type": "code",
   "execution_count": null,
   "id": "416631a7",
   "metadata": {},
   "outputs": [],
   "source": []
  }
 ],
 "metadata": {
  "kernelspec": {
   "display_name": "Python 3 (ipykernel)",
   "language": "python",
   "name": "python3"
  },
  "language_info": {
   "codemirror_mode": {
    "name": "ipython",
    "version": 3
   },
   "file_extension": ".py",
   "mimetype": "text/x-python",
   "name": "python",
   "nbconvert_exporter": "python",
   "pygments_lexer": "ipython3",
   "version": "3.11.3"
  }
 },
 "nbformat": 4,
 "nbformat_minor": 5
}
